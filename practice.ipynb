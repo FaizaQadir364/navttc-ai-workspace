{
 "cells": [
  {
   "cell_type": "markdown",
   "metadata": {},
   "source": [
    "## Practice Tasks"
   ]
  },
  {
   "cell_type": "markdown",
   "metadata": {},
   "source": [
    "## Instructions for Practice Tasks\n",
    "* Complete these tasks by yourself honestly. Avoid copying—solving them will help you learn better.\n",
    "* Try to understand each concept before coding. If you get stuck, review previous lessons or search for explanations.\n",
    "* Experiment with different inputs and variations. This will deepen your understanding.\n",
    "* Debug your errors instead of giving up. Errors are part of learning—analyze them and find solutions.\n",
    "* Ask for help only after trying on your own. Struggling a bit helps you improve problem-solving skills.\n",
    "* Most importantly, enjoy the process! Learning by doing is the best way to master programming. 🚀"
   ]
  },
  {
   "cell_type": "markdown",
   "metadata": {},
   "source": [
    "### 1. **Working with Variables and Data Types**\n",
    "\n",
    "1. Create variables to store the following information:\n",
    "   - Your name\n",
    "   - Your age\n",
    "   - Your height\n",
    "2. Print each of these variables."
   ]
  },
  {
   "cell_type": "code",
   "execution_count": 1,
   "metadata": {},
   "outputs": [
    {
     "name": "stdout",
     "output_type": "stream",
     "text": [
      "Enter your name: imran\n",
      "Enter your age: 20\n",
      "Enter your current semester5\n",
      "Hello my name is imran, I am 20 years old and I am studying in 5 semester!\n"
     ]
    }
   ],
   "source": [
    "name = input(\"Enter your name: \")\n",
    "age = int(input(\"Enter your age: \"))\n",
    "semester= int(input(\"Enter your current semester: \"))\n",
    "\n",
    "print(f\"Hello my name is {name}, I am {age} years old and I am studying in {semester} semester!\")"
   ]
  },
  {
   "cell_type": "markdown",
   "metadata": {},
   "source": [
    "### 2. **Basic Arithmetic Operations**\n",
    "### **Task**:\n",
    "\n",
    "1. Perform basic arithmetic operations: \n",
    "   - Addition\n",
    "   - Subtraction\n",
    "   - Multiplication\n",
    "   - Division \n",
    "\n",
    "   on two numbers of your choice."
   ]
  },
  {
   "cell_type": "code",
   "execution_count": 1,
   "metadata": {},
   "outputs": [
    {
     "name": "stdout",
     "output_type": "stream",
     "text": [
      "Addition: 15\n",
      "Subtraction: 5\n",
      "Multiplication: 50\n",
      "Division: 2.0\n"
     ]
    }
   ],
   "source": [
    "num1 = 10\n",
    "num2 = 5\n",
    "\n",
    "print(\"Addition:\", num1 + num2)\n",
    "print(\"Subtraction:\", num1 - num2)\n",
    "print(\"Multiplication:\", num1 * num2)\n",
    "print(\"Division:\", num1 / num2)"
   ]
  },
  {
   "cell_type": "markdown",
   "metadata": {},
   "source": [
    "### 3. Conditional Statments\n",
    "1. Create two variables: `is_sunny = True` and `is_raining = False`.\n",
    "2. Use the `and` and `or` logical operators to check if it's both sunny and raining, or if it's either sunny or raining.\n",
    "3. Use an `if` statement to print `\"It's sunny!\"` if `is_sunny` is `True`."
   ]
  },
  {
   "cell_type": "code",
   "execution_count": 2,
   "metadata": {},
   "outputs": [
    {
     "name": "stdout",
     "output_type": "stream",
     "text": [
      "Weather condition .....\n"
     ]
    }
   ],
   "source": [
    "is_sunny = False\n",
    "is_raining = True\n",
    "\n",
    "if is_sunny and not is_raining:\n",
    "    print(\"It's a sunny day!\")\n",
    "\n",
    "if is_sunny or is_raining:\n",
    "    print(\"Weather condition .....\")"
   ]
  },
  {
   "cell_type": "markdown",
   "metadata": {},
   "source": [
    "### 4. Write Python Program to convert temperature in celcius to fahrenheit\n",
    "* F = (9/5) * C +32"
   ]
  },
  {
   "cell_type": "code",
   "execution_count": 3,
   "metadata": {},
   "outputs": [
    {
     "data": {
      "text/plain": [
       "99.5"
      ]
     },
     "execution_count": 3,
     "metadata": {},
     "output_type": "execute_result"
    }
   ],
   "source": [
    "celcius = 37.5\n",
    "\n",
    "fahrenheit = (9/5) * celcius + 32\n",
    "fahrenheit"
   ]
  },
  {
   "cell_type": "markdown",
   "metadata": {},
   "source": [
    "### 5. Write Python Program to find the area fortriangle"
   ]
  },
  {
   "cell_type": "code",
   "execution_count": null,
   "metadata": {},
   "outputs": [],
   "source": [
    "base = int(input(\"Enter base of traingel: \"))\n",
    "height = int(input(\"Enter height of traingle: \"))\n",
    "\n",
    "area = (0.5) * base * height\n",
    "area"
   ]
  },
  {
   "cell_type": "markdown",
   "metadata": {},
   "source": [
    "### 6. Discount Eligibility Checker\n",
    "Write a Python program that determines a customer's discount eligibility based on age and student status.\n",
    "\n",
    "Steps:\n",
    "- Create variables for age and student status\n",
    "- Use nested if statements to check:\n",
    "    1. If customer is senior citizen (age >= 60)\n",
    "    2. If customer is a student\n",
    "\n",
    "\n",
    "- Display appropriate discount message:\n",
    "    1. Senior students get 30% discount\n",
    "    2. Senior non-students get 20% discount\n",
    "    3. Non-senior students get 10% discount\n",
    "    4. Others get no discount\n",
    "\n",
    "\n",
    "\n"
   ]
  },
  {
   "cell_type": "code",
   "execution_count": 4,
   "metadata": {},
   "outputs": [
    {
     "name": "stdout",
     "output_type": "stream",
     "text": [
      "No discount\n"
     ]
    }
   ],
   "source": [
    "age = int(input(\"Enter your age: \"))\n",
    "is_student = False\n",
    "\n",
    "if age >= 60:\n",
    "    if is_student:\n",
    "        print(\"Eligible for 30% discount\")\n",
    "    else:\n",
    "        print(\"Eligible for 20% discount\")\n",
    "else:\n",
    "    if is_student:\n",
    "        print(\"Eligible for 10% discount\")\n",
    "    else:\n",
    "        print(\"No discount\")"
   ]
  },
  {
   "cell_type": "markdown",
   "metadata": {},
   "source": [
    "## 7. Print the multiplication table of a number (e.g., 5) up to 10."
   ]
  },
  {
   "cell_type": "code",
   "execution_count": 5,
   "metadata": {},
   "outputs": [
    {
     "name": "stdout",
     "output_type": "stream",
     "text": [
      "3 x 1 = 3\n",
      "3 x 2 = 6\n",
      "3 x 3 = 9\n",
      "3 x 4 = 12\n",
      "3 x 5 = 15\n",
      "3 x 6 = 18\n",
      "3 x 7 = 21\n",
      "3 x 8 = 24\n",
      "3 x 9 = 27\n",
      "3 x 10 = 30\n"
     ]
    }
   ],
   "source": [
    "number = int(input(\"Enter the number: \"))\n",
    "for i in range(1, 11):\n",
    "    print(f\"{number} x {i} = {number*i}\")"
   ]
  },
  {
   "cell_type": "markdown",
   "metadata": {},
   "source": [
    "### 8. Create python function to check whether number is even or odd"
   ]
  },
  {
   "cell_type": "code",
   "execution_count": 6,
   "metadata": {},
   "outputs": [
    {
     "name": "stdout",
     "output_type": "stream",
     "text": [
      "even\n",
      "odd\n"
     ]
    }
   ],
   "source": [
    "def evenOdd(x):\n",
    "    if (x%2 == 0):\n",
    "        print(\"even\")\n",
    "    else:\n",
    "        print(\"odd\")\n",
    "\n",
    "evenOdd(2)\n",
    "evenOdd(3)"
   ]
  },
  {
   "cell_type": "markdown",
   "metadata": {},
   "source": [
    "### 9. **Calculate Area of a Rectangle**\n",
    "\n",
    "- Create a class named `Rectangle` with attributes `length` and `width`.  \n",
    "- Add a method `calculate_area()` to calculate and return the area of the rectangle.  \n",
    "- Create an object and display the area."
   ]
  },
  {
   "cell_type": "code",
   "execution_count": 2,
   "metadata": {},
   "outputs": [],
   "source": [
    "class Rectangle:\n",
    "    def __init__(self, length, width):\n",
    "        self.length = length\n",
    "        self.width = width\n",
    "    \n",
    "    def calculate_area(self):\n",
    "        return self.length * self.width"
   ]
  },
  {
   "cell_type": "code",
   "execution_count": 3,
   "metadata": {},
   "outputs": [
    {
     "name": "stdout",
     "output_type": "stream",
     "text": [
      "Area of the rectangle: 15\n"
     ]
    }
   ],
   "source": [
    "rect = Rectangle(5, 3)\n",
    "print(\"Area of the rectangle:\", rect.calculate_area())"
   ]
  },
  {
   "cell_type": "markdown",
   "metadata": {},
   "source": [
    "### 10. **Data Cleaning & Analysis with Pandas**\n",
    "\n",
    "**Task:**\n",
    "\n",
    "- Create a Pandas DataFrame with student names, ages, and grades.\n",
    "- Replace missing grades with the mean grade.\n",
    "- Filter students with grades above 80.\n",
    "- Display the final cleaned DataFrame."
   ]
  },
  {
   "cell_type": "code",
   "execution_count": 4,
   "metadata": {},
   "outputs": [
    {
     "name": "stdout",
     "output_type": "stream",
     "text": [
      "    Name  Age      Grade\n",
      "0  Alice   20  85.000000\n",
      "1    Bob   21  84.333333\n",
      "3  David   22  90.000000\n",
      "4    Eve   20  84.333333\n"
     ]
    }
   ],
   "source": [
    "import pandas as pd\n",
    "import numpy as np\n",
    "\n",
    "data = {'Name': ['Alice', 'Bob', 'Charlie', 'David', 'Eve'],\n",
    "        'Age': [20, 21, 19, 22, 20],\n",
    "        'Grade': [85, np.nan, 78, 90, np.nan]}\n",
    "\n",
    "df = pd.DataFrame(data)\n",
    "df['Grade'].fillna(df['Grade'].mean(), inplace=True)  # Replace NaN with mean\n",
    "df_filtered = df[df['Grade'] > 80]\n",
    "\n",
    "print(df_filtered)"
   ]
  },
  {
   "cell_type": "markdown",
   "metadata": {},
   "source": [
    "### 11. **BMI Calculator with Classification**\n",
    "**Task:**\n",
    "\n",
    "- Ask the user for height (m) and weight (kg), calculate BMI, and classify as Underweight, Normal, Overweight, or Obese."
   ]
  },
  {
   "cell_type": "code",
   "execution_count": 5,
   "metadata": {},
   "outputs": [
    {
     "name": "stdout",
     "output_type": "stream",
     "text": [
      "Enter your weight (kg): 75\n",
      "Enter your height (m): 1.8\n",
      "Your BMI is 23.15, and you are classified as Normal weight.\n"
     ]
    }
   ],
   "source": [
    "def calculate_bmi(weight, height):\n",
    "    bmi = weight / (height ** 2)\n",
    "    if bmi < 18.5:\n",
    "        category = \"Underweight\"\n",
    "    elif 18.5 <= bmi < 24.9:\n",
    "        category = \"Normal weight\"\n",
    "    elif 25 <= bmi < 29.9:\n",
    "        category = \"Overweight\"\n",
    "    else:\n",
    "        category = \"Obese\"\n",
    "    \n",
    "    return bmi, category\n",
    "\n",
    "weight = float(input(\"Enter your weight (kg): \"))\n",
    "height = float(input(\"Enter your height (m): \"))\n",
    "\n",
    "bmi, category = calculate_bmi(weight, height)\n",
    "print(f\"Your BMI is {bmi:.2f}, and you are classified as {category}.\")"
   ]
  },
  {
   "cell_type": "markdown",
   "metadata": {},
   "source": [
    "### 12. Generate and Visualize a Random Dataset\n",
    "**Task:**\n",
    "\n",
    "- Generate a dataset of 100 random numbers using NumPy.\n",
    "- Plot a histogram of the numbers using Matplotlib."
   ]
  },
  {
   "cell_type": "code",
   "execution_count": 6,
   "metadata": {},
   "outputs": [
    {
     "data": {
      "image/png": "[encoded data removed]",
      "text/plain": [
       "<Figure size 640x480 with 1 Axes>"
      ]
     },
     "metadata": {},
     "output_type": "display_data"
    }
   ],
   "source": [
    "import numpy as np\n",
    "import matplotlib.pyplot as plt\n",
    "\n",
    "data = np.random.normal(loc=50, scale=15, size=100)\n",
    "\n",
    "plt.hist(data, bins=10, color='blue', edgecolor='black')\n",
    "plt.xlabel('Value')\n",
    "plt.ylabel('Frequency')\n",
    "plt.title('Histogram of Random Data')\n",
    "plt.show()"
   ]
  },
  {
   "cell_type": "markdown",
   "metadata": {},
   "source": [
    "### 13. Implement a Simple Linear Regression Model\n",
    "**Task:**\n",
    "\n",
    "- Generate a small dataset with `X` and `y` values.\n",
    "- Train a linear regression model using sklearn.\n",
    "- Predict and visualize the results.\n",
    "\n",
    "- `.reshape(-1, 1)` converts X from a 1D array to a 2D column vector."
   ]
  },
  {
   "cell_type": "code",
   "execution_count": 1,
   "metadata": {},
   "outputs": [
    {
     "data": {
      "image/png": "[encoded data removed]",
      "text/plain": [
       "<Figure size 640x480 with 1 Axes>"
      ]
     },
     "metadata": {},
     "output_type": "display_data"
    }
   ],
   "source": [
    "import numpy as np\n",
    "import matplotlib.pyplot as plt\n",
    "from sklearn.linear_model import LinearRegression\n",
    "\n",
    "# Generate data\n",
    "X = np.array([1, 2, 3, 4, 5, 6, 7, 8, 9, 10]).reshape(-1, 1)\n",
    "y = np.array([2, 4, 5, 7, 10, 11, 13, 15, 18, 21])\n",
    "\n",
    "# Train model\n",
    "model = LinearRegression()\n",
    "model.fit(X, y)\n",
    "y_pred = model.predict(X)\n",
    "\n",
    "# Plot results\n",
    "plt.scatter(X, y, color='blue', label='Actual')\n",
    "plt.plot(X, y_pred, color='red', label='Predicted')\n",
    "plt.xlabel('X')\n",
    "plt.ylabel('y')\n",
    "plt.title('Simple Linear Regression')\n",
    "plt.legend()\n",
    "plt.show()"
   ]
  },
  {
   "cell_type": "markdown",
   "metadata": {},
   "source": [
    "### 14. Create a pull request for you jupyter notebook to the gitub repo. [navttc-ai-workspace](https://github.com/ImranNawar/navttc-ai-workspace)"
   ]
  },
  {
   "cell_type": "markdown",
   "metadata": {},
   "source": [
    "---\n",
    "Have a nice day!😊"
   ]
  }
 ],
 "metadata": {
  "kernelspec": {
   "display_name": "Python 3 (ipykernel)",
   "language": "python",
   "name": "python3"
  },
  "language_info": {
   "codemirror_mode": {
    "name": "ipython",
    "version": 3
   },
   "file_extension": ".py",
   "mimetype": "text/x-python",
   "name": "python",
   "nbconvert_exporter": "python",
   "pygments_lexer": "ipython3",
   "version": "3.11.5"
  }
 },
 "nbformat": 4,
 "nbformat_minor": 2
}

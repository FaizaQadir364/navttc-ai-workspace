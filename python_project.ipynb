{
 "cells": [
  {
   "cell_type": "markdown",
   "metadata": {},
   "source": [
    "## Practice Tasks"
   ]
  },
  {
   "cell_type": "markdown",
   "metadata": {},
   "source": [
    "## Instructions for Practice Tasks\n",
    "* Complete these tasks by yourself honestly. Avoid copying—solving them will help you learn better.\n",
    "* Try to understand each concept before coding. If you get stuck, review previous lessons or search for explanations.\n",
    "* Experiment with different inputs and variations. This will deepen your understanding.\n",
    "* Debug your errors instead of giving up. Errors are part of learning—analyze them and find solutions.\n",
    "* Ask for help only after trying on your own. Struggling a bit helps you improve problem-solving skills.\n",
    "* Most importantly, enjoy the process! Learning by doing is the best way to master programming. 🚀"
   ]
  },
  {
   "cell_type": "markdown",
   "metadata": {},
   "source": [
    "### 1. **Working with Variables and Data Types**\n",
    "\n",
    "1. Create variables to store the following information:\n",
    "   - Your name\n",
    "   - Your age\n",
    "   - Your height\n",
    "2. Print each of these variables."
   ]
  },
  {
   "cell_type": "code",
   "execution_count": 1,
   "metadata": {},
   "outputs": [
    {
     "name": "stdout",
     "output_type": "stream",
     "text": [
      "{'name': 'Faiza', 'age': 23, 'height': 5.1}\n"
     ]
    }
   ],
   "source": [
    "my_info={\n",
    "    'name':'Faiza',\n",
    "    'age':23,\n",
    "    'height':5.1\n",
    "}\n",
    "print(f\"{my_info}\")"
   ]
  },
  {
   "cell_type": "markdown",
   "metadata": {},
   "source": [
    "### 2. **Basic Arithmetic Operations**\n",
    "### **Task**:\n",
    "\n",
    "1. Perform basic arithmetic operations: \n",
    "   - Addition\n",
    "   - Subtraction\n",
    "   - Multiplication\n",
    "   - Division \n",
    "\n",
    "   on two numbers of your choice."
   ]
  },
  {
   "cell_type": "code",
   "execution_count": 3,
   "metadata": {},
   "outputs": [
    {
     "name": "stdout",
     "output_type": "stream",
     "text": [
      "add = 9\n",
      "sub = -3\n",
      "mult = 18\n",
      "divi = 0.5\n"
     ]
    }
   ],
   "source": [
    "a=3\n",
    "b=6\n",
    "print('add =',a+b)\n",
    "print('sub =',a-b)\n",
    "print('mult =',a*b)\n",
    "print('divi =',a/b)"
   ]
  },
  {
   "cell_type": "markdown",
   "metadata": {},
   "source": [
    "### 3. Conditional Statments\n",
    "1. Create two variables: `is_sunny = True` and `is_raining = False`.\n",
    "2. Use the `and` and `or` logical operators to check if it's both sunny and raining, or if it's either sunny or raining.\n",
    "3. Use an `if` statement to print `\"It's sunny!\"` if `is_sunny` is `True`."
   ]
  },
  {
   "cell_type": "code",
   "execution_count": 4,
   "metadata": {},
   "outputs": [
    {
     "name": "stdout",
     "output_type": "stream",
     "text": [
      "It is either sunny or raining\n",
      "Its sunny\n"
     ]
    }
   ],
   "source": [
    "is_sunny=True\n",
    "is_raining=False\n",
    "if is_sunny and is_raining:\n",
    "    print('It is both sunny and raining! ')\n",
    "    \n",
    "elif is_sunny or is_raining:\n",
    "    print('It is either sunny or raining')\n",
    "if is_sunny:\n",
    "    print('Its sunny')"
   ]
  },
  {
   "cell_type": "markdown",
   "metadata": {},
   "source": [
    "### 4. Write Python Program to convert temperature in celcius to fahrenheit\n",
    "* F = (9/5) * C +32"
   ]
  },
  {
   "cell_type": "code",
   "execution_count": 12,
   "metadata": {},
   "outputs": [
    {
     "name": "stdout",
     "output_type": "stream",
     "text": [
      "68.0\n"
     ]
    }
   ],
   "source": [
    "\n",
    "def celsius_to_fahrenheit(celsius):\n",
    "    fahrenheit = (9/5) * celsius + 32\n",
    "    return fahrenheit\n",
    "\n",
    "print(celsius_to_fahrenheit(celcius))\n"
   ]
  },
  {
   "cell_type": "markdown",
   "metadata": {},
   "source": [
    "### 5. Write Python Program to find the area fo triangle"
   ]
  },
  {
   "cell_type": "code",
   "execution_count": 15,
   "metadata": {},
   "outputs": [
    {
     "name": "stdout",
     "output_type": "stream",
     "text": [
      "Area of the triangle is 3.0\n"
     ]
    }
   ],
   "source": [
    "area=(base*height)/2\n",
    "print('Area of the triangle is',area)\n",
    "   "
   ]
  },
  {
   "cell_type": "markdown",
   "metadata": {},
   "source": [
    "### 6. Discount Eligibility Checker\n",
    "Write a Python program that determines a customer's discount eligibility based on age and student status.\n",
    "\n",
    "Steps:\n",
    "- Create variables for age and student status\n",
    "- Use nested if statements to check:\n",
    "    1. If customer is senior citizen (age >= 60)\n",
    "    2. If customer is a student\n",
    "\n",
    "\n",
    "- Display appropriate discount message:\n",
    "    1. Senior students get 30% discount\n",
    "    2. Senior non-students get 20% discount\n",
    "    3. Non-senior students get 10% discount\n",
    "    4. Others get no discount\n",
    "\n",
    "\n",
    "\n"
   ]
  },
  {
   "cell_type": "code",
   "execution_count": 19,
   "metadata": {},
   "outputs": [
    {
     "name": "stdout",
     "output_type": "stream",
     "text": [
      "You are a non-senior student get a 10% discount!\n"
     ]
    }
   ],
   "source": [
    "age = int(input(\"Enter your age: \"))\n",
    "is_student = input(\"Are you a student? (yes/no): \")\n",
    "if age >= 60:\n",
    "    if is_student == 'yes':\n",
    "        print(\"You are a senior student get a 30% discount!\")\n",
    "    else:\n",
    "        print(\"You are a senior citizen get a 20% discount!\")\n",
    "elif is_student == 'yes':\n",
    "    print(\"You are a non-senior student get a 10% discount!\")\n",
    "else:\n",
    "    print(\"You are not eligible for a discount.\")"
   ]
  },
  {
   "cell_type": "markdown",
   "metadata": {},
   "source": [
    "## 7. Print the multiplication table of a number (e.g., 5) up to 10."
   ]
  },
  {
   "cell_type": "code",
   "execution_count": 22,
   "metadata": {},
   "outputs": [
    {
     "name": "stdout",
     "output_type": "stream",
     "text": [
      "7 x 1 = 7\n",
      "7 x 2 = 14\n",
      "7 x 3 = 21\n",
      "7 x 4 = 28\n",
      "7 x 5 = 35\n",
      "7 x 6 = 42\n",
      "7 x 7 = 49\n",
      "7 x 8 = 56\n",
      "7 x 9 = 63\n",
      "7 x 10 = 70\n"
     ]
    }
   ],
   "source": [
    "\n",
    "number = int(input('Enter your number'))\n",
    "for i in range(1, 11):\n",
    "    print(f\"{number} x {i} = {number * i}\")"
   ]
  },
  {
   "cell_type": "markdown",
   "metadata": {},
   "source": [
    "### 8. Create python function to check whether number is even or odd"
   ]
  },
  {
   "cell_type": "code",
   "execution_count": 27,
   "metadata": {},
   "outputs": [],
   "source": [
    "def check_even_odd(number):\n",
    "    if number % 2==0:\n",
    "        return 'Even number'\n",
    "    else:\n",
    "        return 'Odd number'\n",
    "user_input=int(input('Enter your number'))    \n"
   ]
  },
  {
   "cell_type": "markdown",
   "metadata": {},
   "source": [
    "### 9. **Calculate Area of a Rectangle**\n",
    "\n",
    "- Create a class named `Rectangle` with attributes `length` and `width`.  \n",
    "- Add a method `calculate_area()` to calculate and return the area of the rectangle.  \n",
    "- Create an object and display the area."
   ]
  },
  {
   "cell_type": "code",
   "execution_count": 33,
   "metadata": {},
   "outputs": [
    {
     "name": "stdout",
     "output_type": "stream",
     "text": [
      "Area of the rectangle: 15\n"
     ]
    }
   ],
   "source": [
    "class Rectangle:\n",
    "    def __init__(self, length, width):  # Add an __init__ method to accept parameters\n",
    "        self.length = length\n",
    "        self.width = width\n",
    "\n",
    "    def calculate_area(self):\n",
    "        return self.length * self.width\n",
    "\n",
    "rectangle = Rectangle(5, 3)  # Pass the required arguments\n",
    "print(\"Area of the rectangle:\", rectangle.calculate_area())\n"
   ]
  },
  {
   "cell_type": "code",
   "execution_count": null,
   "metadata": {},
   "outputs": [],
   "source": []
  },
  {
   "cell_type": "markdown",
   "metadata": {},
   "source": [
    "### 10. **Data Cleaning & Analysis with Pandas**\n",
    "\n",
    "**Task:**\n",
    "\n",
    "- Create a Pandas DataFrame with student names, ages, and grades.\n",
    "- Replace missing grades with the mean grade.\n",
    "- Filter students with grades above 80.\n",
    "- Display the final cleaned DataFrame."
   ]
  },
  {
   "cell_type": "code",
   "execution_count": 36,
   "metadata": {},
   "outputs": [
    {
     "name": "stdout",
     "output_type": "stream",
     "text": [
      "    Name  Age      Grade\n",
      "0    Ali   20  85.000000\n",
      "1   Sara   21  84.333333\n",
      "3   Zara   22  90.000000\n",
      "4  Usman   20  84.333333\n"
     ]
    }
   ],
   "source": [
    "data = {\n",
    "    \"Name\": [\"Ali\", \"Sara\", \"Ahmed\", \"Zara\", \"Usman\"],\n",
    "    \"Age\": [20, 21, 19, 22, 20],\n",
    "    \"Grade\": [85, np.nan, 78, 90, np.nan]  # Missing grades hain\n",
    "}\n",
    "\n",
    "df = pd.DataFrame(data)\n",
    "df[\"Grade\"].fillna(df[\"Grade\"].mean(), inplace=True)\n",
    "\n",
    "df_filtered = df[df[\"Grade\"] > 80]\n",
    "\n",
    "\n",
    "print(df_filtered)\n"
   ]
  },
  {
   "cell_type": "markdown",
   "metadata": {},
   "source": [
    "### 11. **BMI Calculator with Classification**\n",
    "**Task:**\n",
    "\n",
    "- Ask the user for height (m) and weight (kg), calculate BMI, and classify as Underweight, Normal, Overweight, or Obese."
   ]
  },
  {
   "cell_type": "code",
   "execution_count": 38,
   "metadata": {},
   "outputs": [
    {
     "name": "stdout",
     "output_type": "stream",
     "text": [
      "BMI: 0.52 → Underweight\n"
     ]
    }
   ],
   "source": [
    "h = float(input(\"Enter your Height value in meter: \"))  \n",
    "w = float(input(\"Enter your Weight value in kg: \"))  \n",
    "\n",
    "bmi = w / (h * h)  \n",
    "\n",
    "\n",
    "if bmi < 18.5:\n",
    "    c = \"Underweight\"\n",
    "elif bmi < 25:\n",
    "    c = \"Normal\"\n",
    "elif bmi < 30:\n",
    "    c = \"Overweight\"\n",
    "else:\n",
    "    c = \"Obese\"\n",
    "\n",
    "print(f\"BMI: {bmi:.2f} → {c}\")  \n"
   ]
  },
  {
   "cell_type": "markdown",
   "metadata": {},
   "source": [
    "### 12. Generate and Visualize a Random Dataset\n",
    "**Task:**\n",
    "\n",
    "- Generate a dataset of 100 random numbers using NumPy.\n",
    "- Plot a histogram of the numbers using Matplotlib."
   ]
  },
  {
   "cell_type": "code",
   "execution_count": 43,
   "metadata": {},
   "outputs": [
    {
     "data": {
      "image/png": "[encoded data removed]",
      "text/plain": [
       "<Figure size 640x480 with 1 Axes>"
      ]
     },
     "metadata": {},
     "output_type": "display_data"
    }
   ],
   "source": [
    "import numpy as np\n",
    "import matplotlib.pyplot as plt\n",
    "\n",
    "data = np.random.randn(100)  \n",
    "\n",
    "plt.hist(data, bins=10, color='blue')\n",
    "plt.title(\"Histogram of Random Numbers\")\n",
    "plt.xlabel(\"Value\")\n",
    "plt.ylabel(\"Frequency\")\n",
    "plt.show()\n"
   ]
  },
  {
   "cell_type": "markdown",
   "metadata": {},
   "source": [
    "### 13. Implement a Simple Linear Regression Model\n",
    "**Task:**\n",
    "\n",
    "- Generate a small dataset with `X` and `y` values.\n",
    "- Train a linear regression model using sklearn.\n",
    "- Predict and visualize the results."
   ]
  },
  {
   "cell_type": "code",
   "execution_count": 44,
   "metadata": {},
   "outputs": [
    {
     "data": {
      "image/png": "[encoded data removed]",
      "text/plain": [
       "<Figure size 640x480 with 1 Axes>"
      ]
     },
     "metadata": {},
     "output_type": "display_data"
    }
   ],
   "source": [
    "import numpy as np\n",
    "import matplotlib.pyplot as plt\n",
    "from sklearn.linear_model import LinearRegression\n",
    "np.random.seed(42)  # Same random values har bar aane ke liye\n",
    "X = np.random.rand(20, 1) * 10  # 20 random X values (0-10 range)\n",
    "y = 2.5 * X + np.random.randn(20, 1) * 2  \n",
    "\n",
    "model = LinearRegression()\n",
    "model.fit(X, y)\n",
    "\n",
    "\n",
    "y_pred = model.predict(X)\n",
    "\n",
    "\n",
    "plt.scatter(X, y, color='blue', label=\"Actual Data\")  \n",
    "plt.plot(X, y_pred, color='red', linewidth=2, label=\"Regression Line\")  # Predicted Line\n",
    "plt.xlabel(\"X Values\")\n",
    "plt.ylabel(\"Y Values\")\n",
    "plt.title(\"Simple Linear Regression\")\n",
    "plt.legend()\n",
    "plt.show()\n"
   ]
  },
  {
   "cell_type": "markdown",
   "metadata": {},
   "source": [
    "### 14. Create a pull request for you jupyter notebook to the gitub repo. [navttc-ai-workspace](https://github.com/ImranNawar/navttc-ai-workspace)"
   ]
  },
  {
   "cell_type": "markdown",
   "metadata": {},
   "source": [
    "---\n",
    "Have a nice day!😊"
   ]
  },
  {
   "cell_type": "code",
   "execution_count": null,
   "metadata": {},
   "outputs": [],
   "source": []
  }
 ],
 "metadata": {
  "kernelspec": {
   "display_name": "Python 3 (ipykernel)",
   "language": "python",
   "name": "python3"
  },
  "language_info": {
   "codemirror_mode": {
    "name": "ipython",
    "version": 3
   },
   "file_extension": ".py",
   "mimetype": "text/x-python",
   "name": "python",
   "nbconvert_exporter": "python",
   "pygments_lexer": "ipython3",
   "version": "3.11.5"
  }
 },
 "nbformat": 4,
 "nbformat_minor": 2
}

{
 "cells": [
  {
   "cell_type": "markdown",
   "metadata": {},
   "source": [
    "## Practice Tasks"
   ]
  },
  {
   "cell_type": "markdown",
   "metadata": {},
   "source": [
    "## Instructions for Practice Tasks\n",
    "* Complete these tasks by yourself honestly. Avoid copying—solving them will help you learn better.\n",
    "* Try to understand each concept before coding. If you get stuck, review previous lessons or search for explanations.\n",
    "* Experiment with different inputs and variations. This will deepen your understanding.\n",
    "* Debug your errors instead of giving up. Errors are part of learning—analyze them and find solutions.\n",
    "* Ask for help only after trying on your own. Struggling a bit helps you improve problem-solving skills.\n",
    "* Most importantly, enjoy the process! Learning by doing is the best way to master programming. 🚀"
   ]
  },
  {
   "cell_type": "markdown",
   "metadata": {},
   "source": [
    "### 1. **Working with Variables and Data Types**\n",
    "\n",
    "1. Create variables to store the following information:\n",
    "   - Your name\n",
    "   - Your age\n",
    "   - Your height\n",
    "2. Print each of these variables."
   ]
  },
  {
   "cell_type": "code",
   "execution_count": null,
   "metadata": {},
   "outputs": [],
   "source": []
  },
  {
   "cell_type": "markdown",
   "metadata": {},
   "source": [
    "### 2. **Basic Arithmetic Operation**\n",
    "### **Task**:\n",
    "\n",
    "1. Perform basic arithmetic operations: \n",
    "   - Addition\n",
    "   - Subtraction\n",
    "   - Multiplication\n",
    "   - Division \n",
    "\n",
    "   on two numbers of your choice."
   ]
  },
  {
   "cell_type": "code",
   "execution_count": null,
   "metadata": {},
   "outputs": [],
   "source": []
  },
  {
   "cell_type": "markdown",
   "metadata": {},
   "source": [
    "### 3. Conditional Statments\n",
    "1. Create two variables: `is_sunny = True` and `is_raining = False`.\n",
    "2. Use the `and` and `or` logical operators to check if it's both sunny and raining, or if it's either sunny or raining.\n",
    "3. Use an `if` statement to print `\"It's sunny!\"` if `is_sunny` is `True`."
   ]
  },
  {
   "cell_type": "code",
   "execution_count": null,
   "metadata": {},
   "outputs": [],
   "source": []
  },
  {
   "cell_type": "markdown",
   "metadata": {},
   "source": [
    "### 4. Write Python Program to convert temperature in celcius to fahrenheit\n",
    "* F = (9/5) * C +32"
   ]
  },
  {
   "cell_type": "code",
   "execution_count": null,
   "metadata": {},
   "outputs": [],
   "source": []
  },
  {
   "cell_type": "markdown",
   "metadata": {},
   "source": [
    "### 5. Write Python Program to find the area fo triangle"
   ]
  },
  {
   "cell_type": "code",
   "execution_count": null,
   "metadata": {},
   "outputs": [],
   "source": []
  },
  {
   "cell_type": "markdown",
   "metadata": {},
   "source": [
    "### 6. Discount Eligibility Checker\n",
    "Write a Python program that determines a customer's discount eligibility based on age and student status.\n",
    "\n",
    "Steps:\n",
    "- Create variables for age and student status\n",
    "- Use nested if statements to check:\n",
    "    1. If customer is senior citizen (age >= 60)\n",
    "    2. If customer is a student\n",
    "\n",
    "\n",
    "- Display appropriate discount message:\n",
    "    1. Senior students get 30% discount\n",
    "    2. Senior non-students get 20% discount\n",
    "    3. Non-senior students get 10% discount\n",
    "    4. Others get no discount\n",
    "\n",
    "\n",
    "\n"
   ]
  },
  {
   "cell_type": "code",
   "execution_count": null,
   "metadata": {},
   "outputs": [],
   "source": []
  },
  {
   "cell_type": "markdown",
   "metadata": {},
   "source": [
    "## 7. Print the multiplication table of a number (e.g., 5) up to 10."
   ]
  },
  {
   "cell_type": "code",
   "execution_count": null,
   "metadata": {},
   "outputs": [],
   "source": []
  },
  {
   "cell_type": "markdown",
   "metadata": {},
   "source": [
    "### 8. Create python function to check whether number is even or odd"
   ]
  },
  {
   "cell_type": "code",
   "execution_count": null,
   "metadata": {},
   "outputs": [],
   "source": []
  },
  {
   "cell_type": "markdown",
   "metadata": {},
   "source": [
    "### 9. **Calculate Area of a Rectangle**\n",
    "\n",
    "- Create a class named `Rectangle` with attributes `length` and `width`.  \n",
    "- Add a method `calculate_area()` to calculate and return the area of the rectangle.  \n",
    "- Create an object and display the area."
   ]
  },
  {
   "cell_type": "code",
   "execution_count": null,
   "metadata": {},
   "outputs": [],
   "source": []
  },
  {
   "cell_type": "code",
   "execution_count": null,
   "metadata": {},
   "outputs": [],
   "source": []
  },
  {
   "cell_type": "markdown",
   "metadata": {},
   "source": [
    "### 10. **Data Cleaning & Analysis with Pandas**\n",
    "\n",
    "**Task:**\n",
    "\n",
    "- Create a Pandas DataFrame with student names, ages, and grades.\n",
    "- Replace missing grades with the mean grade.\n",
    "- Filter students with grades above 80.\n",
    "- Display the final cleaned DataFrame."
   ]
  },
  {
   "cell_type": "code",
   "execution_count": null,
   "metadata": {},
   "outputs": [],
   "source": []
  },
  {
   "cell_type": "markdown",
   "metadata": {},
   "source": [
    "### 11. **BMI Calculator with Classification**\n",
    "**Task:**\n",
    "\n",
    "- Ask the user for height (m) and weight (kg), calculate BMI, and classify as Underweight, Normal, Overweight, or Obese."
   ]
  },
  {
   "cell_type": "code",
   "execution_count": null,
   "metadata": {},
   "outputs": [],
   "source": []
  },
  {
   "cell_type": "markdown",
   "metadata": {},
   "source": [
    "### 12. Generate and Visualize a Random Dataset\n",
    "**Task:**\n",
    "\n",
    "- Generate a dataset of 100 random numbers using NumPy.\n",
    "- Plot a histogram of the numbers using Matplotlib."
   ]
  },
  {
   "cell_type": "code",
   "execution_count": null,
   "metadata": {},
   "outputs": [],
   "source": []
  },
  {
   "cell_type": "markdown",
   "metadata": {},
   "source": [
    "### 13. Implement a Simple Linear Regression Model\n",
    "**Task:**\n",
    "\n",
    "- Generate a small dataset with `X` and `y` values.\n",
    "- Train a linear regression model using sklearn.\n",
    "- Predict and visualize the results."
   ]
  },
  {
   "cell_type": "code",
   "execution_count": null,
   "metadata": {},
   "outputs": [],
   "source": []
  },
  {
   "cell_type": "markdown",
   "metadata": {},
   "source": [
    "### 14. Create a pull request for you jupyter notebook to the gitub repo. [navttc-ai-workspace](https://github.com/ImranNawar/navttc-ai-workspace)"
   ]
  },
  {
   "cell_type": "markdown",
   "metadata": {},
   "source": [
    "---\n",
    "Have a nice day!😊"
   ]
  },
  {
   "cell_type": "code",
   "execution_count": null,
   "metadata": {},
   "outputs": [],
   "source": []
  }
 ],
 "metadata": {
  "kernelspec": {
   "display_name": "Python 3 (ipykernel)",
   "language": "python",
   "name": "python3"
  },
  "language_info": {
   "codemirror_mode": {
    "name": "ipython",
    "version": 3
   },
   "file_extension": ".py",
   "mimetype": "text/x-python",
   "name": "python",
   "nbconvert_exporter": "python",
   "pygments_lexer": "ipython3",
   "version": "3.11.5"
  }
 },
 "nbformat": 4,
 "nbformat_minor": 2
}
